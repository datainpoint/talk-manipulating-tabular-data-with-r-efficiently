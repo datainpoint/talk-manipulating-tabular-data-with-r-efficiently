{
 "cells": [
  {
   "cell_type": "markdown",
   "id": "22c4efe9",
   "metadata": {},
   "source": [
    "# 如何有效率地使用 R 語言處理表格式資料\n",
    "\n",
    "> 2022-11-24 台北大學短講\n",
    "\n",
    "![](https://media.giphy.com/media/eIm624c8nnNbiG0V3g/giphy.gif)"
   ]
  },
  {
   "cell_type": "code",
   "execution_count": 1,
   "id": "8b8b30c2",
   "metadata": {},
   "outputs": [
    {
     "name": "stderr",
     "output_type": "stream",
     "text": [
      "\n",
      "Attaching package: ‘dplyr’\n",
      "\n",
      "\n",
      "The following objects are masked from ‘package:stats’:\n",
      "\n",
      "    filter, lag\n",
      "\n",
      "\n",
      "The following objects are masked from ‘package:base’:\n",
      "\n",
      "    intersect, setdiff, setequal, union\n",
      "\n",
      "\n",
      "\n",
      "Attaching package: ‘data.table’\n",
      "\n",
      "\n",
      "The following objects are masked from ‘package:dplyr’:\n",
      "\n",
      "    between, first, last\n",
      "\n",
      "\n",
      "Loading required package: xts\n",
      "\n",
      "Loading required package: zoo\n",
      "\n",
      "\n",
      "Attaching package: ‘zoo’\n",
      "\n",
      "\n",
      "The following objects are masked from ‘package:base’:\n",
      "\n",
      "    as.Date, as.Date.numeric\n",
      "\n",
      "\n",
      "\n",
      "Attaching package: ‘xts’\n",
      "\n",
      "\n",
      "The following objects are masked from ‘package:data.table’:\n",
      "\n",
      "    first, last\n",
      "\n",
      "\n",
      "The following objects are masked from ‘package:dplyr’:\n",
      "\n",
      "    first, last\n",
      "\n",
      "\n",
      "Loading required package: TTR\n",
      "\n",
      "Registered S3 method overwritten by 'quantmod':\n",
      "  method            from\n",
      "  as.zoo.data.frame zoo \n",
      "\n"
     ]
    }
   ],
   "source": [
    "library(\"dplyr\")\n",
    "library(\"data.table\")\n",
    "library(\"quantmod\")"
   ]
  },
  {
   "cell_type": "markdown",
   "id": "0625b55c",
   "metadata": {},
   "source": [
    "## 緣起\n",
    "\n",
    "感謝台北大學企業管理學系的游擱嘉助理教授讓我去他的金融數據分析課程給一個短講，修課學生的主修是企業管理學系，在金融數據的處理和分析上是以 R 作為程式語言，顧及一學期的課程長度，所以實踐了 Tidyverse first 的教學理念。Tidyverse first 的教學理念主要的發起點還是在於表格式資料（e.g. Data.Frame、Tibble），優點當然是實戰程度高、應用性強、學習歷程短；缺點就是在不具備 R 語言基本資料結構宏觀的理解下，無法善加利用函數輸出結果。因此這個短講我設定的主題是「如何有效率地使用 R 語言處理表格式資料 Manipulating Tabular Data with R Efficiently」，旨在透過 90 分鐘的時間，讓聽眾快速建立對於 R 語言表格式資料結構的概覽。\n",
    "\n",
    "## 什麼是表格式資料\n",
    "\n",
    "表格式資料是具備列（Rows）與欄（Columns）的資料組織型態，每一列所具備的欄數都相同、每一欄所具備的列數也都相同；每一列的欄順序都相同、每一欄的列順序也都相同，這樣的一種對稱外型，讓我們能夠以 `(m, n)` 來描述外型為 `m` 列 `n` 欄的表格式資料。表格式資料中的每一欄各自是同質資料，但不同欄彼此允許異質資料；列資料通常具有某個特定的順序，但順序並不是必備的表格式資料特性。\n",
    "\n",
    "![](2880px-Relational_database_terms.svg.png)\n",
    "\n",
    "來源：<https://commons.wikimedia.org/wiki/File:Relational_database_terms.png>\n",
    "\n",
    "## R 語言常見的表格式資料結構\n",
    "\n",
    "以科學計算、統計分析為主體應用的程式語言，例如 R、SAS、Stata、Matlab 或 Python Pandas，都會具備處理表格式的資料結構，R 內生的 `data.frame`、Python Pandas 的 `DataFrame` 或 SAS 的 SAS Data Set。R 語言的表格式資料結構非常多元，常見的有：\n",
    "\n",
    "1. `matrix`\n",
    "2. `data.frame`\n",
    "3. `tibble`\n",
    "4. `data.table`\n",
    "5. `xts`\n",
    "\n",
    "其中 `matrix` 與 `data.frame` 是 R 語言的內建資料結構，`tibble`、`data.table` 與 `xts` 則是第三方套件 `tibble`、`data.table` 與 `xts` 分別提供的資料結構，值得注意的是這些資料結構的類別命名與第三方套件的命名是相同的，要避免混淆。\n",
    "\n",
    "`matrix` 是二維的數值向量，可以透過 `matrix()` 函數建立、也可以更新一維數值向量的維度來建立。"
   ]
  },
  {
   "cell_type": "code",
   "execution_count": 2,
   "id": "dc803298",
   "metadata": {},
   "outputs": [
    {
     "data": {
      "text/html": [
       "<table class=\"dataframe\">\n",
       "<caption>A matrix: 2 × 3 of type int</caption>\n",
       "<tbody>\n",
       "\t<tr><td>1</td><td>3</td><td>5</td></tr>\n",
       "\t<tr><td>2</td><td>4</td><td>6</td></tr>\n",
       "</tbody>\n",
       "</table>\n"
      ],
      "text/latex": [
       "A matrix: 2 × 3 of type int\n",
       "\\begin{tabular}{lll}\n",
       "\t 1 & 3 & 5\\\\\n",
       "\t 2 & 4 & 6\\\\\n",
       "\\end{tabular}\n"
      ],
      "text/markdown": [
       "\n",
       "A matrix: 2 × 3 of type int\n",
       "\n",
       "| 1 | 3 | 5 |\n",
       "| 2 | 4 | 6 |\n",
       "\n"
      ],
      "text/plain": [
       "     [,1] [,2] [,3]\n",
       "[1,] 1    3    5   \n",
       "[2,] 2    4    6   "
      ]
     },
     "metadata": {},
     "output_type": "display_data"
    },
    {
     "data": {
      "text/html": [
       "<table class=\"dataframe\">\n",
       "<caption>A matrix: 2 × 3 of type int</caption>\n",
       "<tbody>\n",
       "\t<tr><td>1</td><td>3</td><td>5</td></tr>\n",
       "\t<tr><td>2</td><td>4</td><td>6</td></tr>\n",
       "</tbody>\n",
       "</table>\n"
      ],
      "text/latex": [
       "A matrix: 2 × 3 of type int\n",
       "\\begin{tabular}{lll}\n",
       "\t 1 & 3 & 5\\\\\n",
       "\t 2 & 4 & 6\\\\\n",
       "\\end{tabular}\n"
      ],
      "text/markdown": [
       "\n",
       "A matrix: 2 × 3 of type int\n",
       "\n",
       "| 1 | 3 | 5 |\n",
       "| 2 | 4 | 6 |\n",
       "\n"
      ],
      "text/plain": [
       "     [,1] [,2] [,3]\n",
       "[1,] 1    3    5   \n",
       "[2,] 2    4    6   "
      ]
     },
     "metadata": {},
     "output_type": "display_data"
    }
   ],
   "source": [
    "A <- matrix(1:6, nrow = 2)\n",
    "B <- 1:6\n",
    "dim(B) <- c(2, 3)\n",
    "A\n",
    "B"
   ]
  },
  {
   "cell_type": "markdown",
   "id": "4f35382f",
   "metadata": {},
   "source": [
    "使用函數檢視 `matrix` 的類別，`matrix` 屬於 `array` 的子類別。"
   ]
  },
  {
   "cell_type": "code",
   "execution_count": 3,
   "id": "9a3d9cd7",
   "metadata": {},
   "outputs": [
    {
     "data": {
      "text/html": [
       "<style>\n",
       ".list-inline {list-style: none; margin:0; padding: 0}\n",
       ".list-inline>li {display: inline-block}\n",
       ".list-inline>li:not(:last-child)::after {content: \"\\00b7\"; padding: 0 .5ex}\n",
       "</style>\n",
       "<ol class=list-inline><li>'matrix'</li><li>'array'</li></ol>\n"
      ],
      "text/latex": [
       "\\begin{enumerate*}\n",
       "\\item 'matrix'\n",
       "\\item 'array'\n",
       "\\end{enumerate*}\n"
      ],
      "text/markdown": [
       "1. 'matrix'\n",
       "2. 'array'\n",
       "\n",
       "\n"
      ],
      "text/plain": [
       "[1] \"matrix\" \"array\" "
      ]
     },
     "metadata": {},
     "output_type": "display_data"
    },
    {
     "data": {
      "text/html": [
       "TRUE"
      ],
      "text/latex": [
       "TRUE"
      ],
      "text/markdown": [
       "TRUE"
      ],
      "text/plain": [
       "[1] TRUE"
      ]
     },
     "metadata": {},
     "output_type": "display_data"
    },
    {
     "data": {
      "text/html": [
       "TRUE"
      ],
      "text/latex": [
       "TRUE"
      ],
      "text/markdown": [
       "TRUE"
      ],
      "text/plain": [
       "[1] TRUE"
      ]
     },
     "metadata": {},
     "output_type": "display_data"
    }
   ],
   "source": [
    "class(A)\n",
    "is.matrix(A)\n",
    "is.array(A)"
   ]
  },
  {
   "cell_type": "markdown",
   "id": "10c48786",
   "metadata": {},
   "source": [
    "使用函數檢視 `matrix` 的外型。"
   ]
  },
  {
   "cell_type": "code",
   "execution_count": 4,
   "id": "20d12cb7",
   "metadata": {},
   "outputs": [
    {
     "data": {
      "text/html": [
       "6"
      ],
      "text/latex": [
       "6"
      ],
      "text/markdown": [
       "6"
      ],
      "text/plain": [
       "[1] 6"
      ]
     },
     "metadata": {},
     "output_type": "display_data"
    },
    {
     "data": {
      "text/html": [
       "<style>\n",
       ".list-inline {list-style: none; margin:0; padding: 0}\n",
       ".list-inline>li {display: inline-block}\n",
       ".list-inline>li:not(:last-child)::after {content: \"\\00b7\"; padding: 0 .5ex}\n",
       "</style>\n",
       "<ol class=list-inline><li>2</li><li>3</li></ol>\n"
      ],
      "text/latex": [
       "\\begin{enumerate*}\n",
       "\\item 2\n",
       "\\item 3\n",
       "\\end{enumerate*}\n"
      ],
      "text/markdown": [
       "1. 2\n",
       "2. 3\n",
       "\n",
       "\n"
      ],
      "text/plain": [
       "[1] 2 3"
      ]
     },
     "metadata": {},
     "output_type": "display_data"
    },
    {
     "data": {
      "text/html": [
       "2"
      ],
      "text/latex": [
       "2"
      ],
      "text/markdown": [
       "2"
      ],
      "text/plain": [
       "[1] 2"
      ]
     },
     "metadata": {},
     "output_type": "display_data"
    },
    {
     "data": {
      "text/html": [
       "3"
      ],
      "text/latex": [
       "3"
      ],
      "text/markdown": [
       "3"
      ],
      "text/plain": [
       "[1] 3"
      ]
     },
     "metadata": {},
     "output_type": "display_data"
    }
   ],
   "source": [
    "length(A)\n",
    "dim(A)\n",
    "nrow(A)\n",
    "ncol(A)"
   ]
  },
  {
   "cell_type": "markdown",
   "id": "7cc1a24a",
   "metadata": {},
   "source": [
    "`data.frame` 是一個由相同長度向量所組合而成的 `list` 資料結構，是 R 語言最常用來儲存資料的格式。使用函數檢視 `data.frame` 的類別，`data.frame` 屬於 `list` 的子類別。"
   ]
  },
  {
   "cell_type": "code",
   "execution_count": 5,
   "id": "c8b2f89f",
   "metadata": {},
   "outputs": [
    {
     "data": {
      "text/html": [
       "<style>\n",
       ".list-inline {list-style: none; margin:0; padding: 0}\n",
       ".list-inline>li {display: inline-block}\n",
       ".list-inline>li:not(:last-child)::after {content: \"\\00b7\"; padding: 0 .5ex}\n",
       "</style>\n",
       "<ol class=list-inline><li>'tbl_df'</li><li>'tbl'</li><li>'data.frame'</li></ol>\n"
      ],
      "text/latex": [
       "\\begin{enumerate*}\n",
       "\\item 'tbl\\_df'\n",
       "\\item 'tbl'\n",
       "\\item 'data.frame'\n",
       "\\end{enumerate*}\n"
      ],
      "text/markdown": [
       "1. 'tbl_df'\n",
       "2. 'tbl'\n",
       "3. 'data.frame'\n",
       "\n",
       "\n"
      ],
      "text/plain": [
       "[1] \"tbl_df\"     \"tbl\"        \"data.frame\""
      ]
     },
     "metadata": {},
     "output_type": "display_data"
    },
    {
     "data": {
      "text/html": [
       "TRUE"
      ],
      "text/latex": [
       "TRUE"
      ],
      "text/markdown": [
       "TRUE"
      ],
      "text/plain": [
       "[1] TRUE"
      ]
     },
     "metadata": {},
     "output_type": "display_data"
    },
    {
     "data": {
      "text/html": [
       "TRUE"
      ],
      "text/latex": [
       "TRUE"
      ],
      "text/markdown": [
       "TRUE"
      ],
      "text/plain": [
       "[1] TRUE"
      ]
     },
     "metadata": {},
     "output_type": "display_data"
    }
   ],
   "source": [
    "class(dplyr::starwars)\n",
    "is.data.frame(dplyr::starwars)\n",
    "is.list(dplyr::starwars)"
   ]
  },
  {
   "cell_type": "markdown",
   "id": "7e5cd8af",
   "metadata": {},
   "source": [
    "使用函數檢視 `data.frame` 的外型。"
   ]
  },
  {
   "cell_type": "code",
   "execution_count": 6,
   "id": "abd9a46b",
   "metadata": {},
   "outputs": [
    {
     "data": {
      "text/html": [
       "<style>\n",
       ".list-inline {list-style: none; margin:0; padding: 0}\n",
       ".list-inline>li {display: inline-block}\n",
       ".list-inline>li:not(:last-child)::after {content: \"\\00b7\"; padding: 0 .5ex}\n",
       "</style>\n",
       "<ol class=list-inline><li>87</li><li>14</li></ol>\n"
      ],
      "text/latex": [
       "\\begin{enumerate*}\n",
       "\\item 87\n",
       "\\item 14\n",
       "\\end{enumerate*}\n"
      ],
      "text/markdown": [
       "1. 87\n",
       "2. 14\n",
       "\n",
       "\n"
      ],
      "text/plain": [
       "[1] 87 14"
      ]
     },
     "metadata": {},
     "output_type": "display_data"
    },
    {
     "data": {
      "text/html": [
       "87"
      ],
      "text/latex": [
       "87"
      ],
      "text/markdown": [
       "87"
      ],
      "text/plain": [
       "[1] 87"
      ]
     },
     "metadata": {},
     "output_type": "display_data"
    },
    {
     "data": {
      "text/html": [
       "14"
      ],
      "text/latex": [
       "14"
      ],
      "text/markdown": [
       "14"
      ],
      "text/plain": [
       "[1] 14"
      ]
     },
     "metadata": {},
     "output_type": "display_data"
    }
   ],
   "source": [
    "dim(dplyr::starwars)\n",
    "nrow(dplyr::starwars)\n",
    "ncol(dplyr::starwars)"
   ]
  },
  {
   "cell_type": "markdown",
   "id": "514f1a5b",
   "metadata": {},
   "source": [
    "使用函數預覽 `data.frame` 的內容。"
   ]
  },
  {
   "cell_type": "code",
   "execution_count": 7,
   "id": "8fbe884b",
   "metadata": {},
   "outputs": [
    {
     "data": {
      "text/html": [
       "<table class=\"dataframe\">\n",
       "<caption>A tibble: 6 × 14</caption>\n",
       "<thead>\n",
       "\t<tr><th scope=col>name</th><th scope=col>height</th><th scope=col>mass</th><th scope=col>hair_color</th><th scope=col>skin_color</th><th scope=col>eye_color</th><th scope=col>birth_year</th><th scope=col>sex</th><th scope=col>gender</th><th scope=col>homeworld</th><th scope=col>species</th><th scope=col>films</th><th scope=col>vehicles</th><th scope=col>starships</th></tr>\n",
       "\t<tr><th scope=col>&lt;chr&gt;</th><th scope=col>&lt;int&gt;</th><th scope=col>&lt;dbl&gt;</th><th scope=col>&lt;chr&gt;</th><th scope=col>&lt;chr&gt;</th><th scope=col>&lt;chr&gt;</th><th scope=col>&lt;dbl&gt;</th><th scope=col>&lt;chr&gt;</th><th scope=col>&lt;chr&gt;</th><th scope=col>&lt;chr&gt;</th><th scope=col>&lt;chr&gt;</th><th scope=col>&lt;list&gt;</th><th scope=col>&lt;list&gt;</th><th scope=col>&lt;list&gt;</th></tr>\n",
       "</thead>\n",
       "<tbody>\n",
       "\t<tr><td>Luke Skywalker</td><td>172</td><td> 77</td><td>blond      </td><td>fair       </td><td>blue  </td><td> 19.0</td><td>male  </td><td>masculine</td><td>Tatooine</td><td>Human</td><td>The Empire Strikes Back, Revenge of the Sith    , Return of the Jedi     , A New Hope             , The Force Awakens      </td><td>Snowspeeder          , Imperial Speeder Bike</td><td>X-wing          , Imperial shuttle</td></tr>\n",
       "\t<tr><td>C-3PO         </td><td>167</td><td> 75</td><td>NA         </td><td>gold       </td><td>yellow</td><td>112.0</td><td>none  </td><td>masculine</td><td>Tatooine</td><td>Droid</td><td>The Empire Strikes Back, Attack of the Clones   , The Phantom Menace     , Revenge of the Sith    , Return of the Jedi     , A New Hope             </td><td></td><td></td></tr>\n",
       "\t<tr><td>R2-D2         </td><td> 96</td><td> 32</td><td>NA         </td><td>white, blue</td><td>red   </td><td> 33.0</td><td>none  </td><td>masculine</td><td>Naboo   </td><td>Droid</td><td>The Empire Strikes Back, Attack of the Clones   , The Phantom Menace     , Revenge of the Sith    , Return of the Jedi     , A New Hope             , The Force Awakens      </td><td></td><td></td></tr>\n",
       "\t<tr><td>Darth Vader   </td><td>202</td><td>136</td><td>none       </td><td>white      </td><td>yellow</td><td> 41.9</td><td>male  </td><td>masculine</td><td>Tatooine</td><td>Human</td><td>The Empire Strikes Back, Revenge of the Sith    , Return of the Jedi     , A New Hope             </td><td></td><td>TIE Advanced x1</td></tr>\n",
       "\t<tr><td>Leia Organa   </td><td>150</td><td> 49</td><td>brown      </td><td>light      </td><td>brown </td><td> 19.0</td><td>female</td><td>feminine </td><td>Alderaan</td><td>Human</td><td>The Empire Strikes Back, Revenge of the Sith    , Return of the Jedi     , A New Hope             , The Force Awakens      </td><td>Imperial Speeder Bike</td><td></td></tr>\n",
       "\t<tr><td>Owen Lars     </td><td>178</td><td>120</td><td>brown, grey</td><td>light      </td><td>blue  </td><td> 52.0</td><td>male  </td><td>masculine</td><td>Tatooine</td><td>Human</td><td>Attack of the Clones, Revenge of the Sith , A New Hope          </td><td></td><td></td></tr>\n",
       "</tbody>\n",
       "</table>\n"
      ],
      "text/latex": [
       "A tibble: 6 × 14\n",
       "\\begin{tabular}{llllllllllllll}\n",
       " name & height & mass & hair\\_color & skin\\_color & eye\\_color & birth\\_year & sex & gender & homeworld & species & films & vehicles & starships\\\\\n",
       " <chr> & <int> & <dbl> & <chr> & <chr> & <chr> & <dbl> & <chr> & <chr> & <chr> & <chr> & <list> & <list> & <list>\\\\\n",
       "\\hline\n",
       "\t Luke Skywalker & 172 &  77 & blond       & fair        & blue   &  19.0 & male   & masculine & Tatooine & Human & The Empire Strikes Back, Revenge of the Sith    , Return of the Jedi     , A New Hope             , The Force Awakens       & Snowspeeder          , Imperial Speeder Bike & X-wing          , Imperial shuttle\\\\\n",
       "\t C-3PO          & 167 &  75 & NA          & gold        & yellow & 112.0 & none   & masculine & Tatooine & Droid & The Empire Strikes Back, Attack of the Clones   , The Phantom Menace     , Revenge of the Sith    , Return of the Jedi     , A New Hope              &  & \\\\\n",
       "\t R2-D2          &  96 &  32 & NA          & white, blue & red    &  33.0 & none   & masculine & Naboo    & Droid & The Empire Strikes Back, Attack of the Clones   , The Phantom Menace     , Revenge of the Sith    , Return of the Jedi     , A New Hope             , The Force Awakens       &  & \\\\\n",
       "\t Darth Vader    & 202 & 136 & none        & white       & yellow &  41.9 & male   & masculine & Tatooine & Human & The Empire Strikes Back, Revenge of the Sith    , Return of the Jedi     , A New Hope              &  & TIE Advanced x1\\\\\n",
       "\t Leia Organa    & 150 &  49 & brown       & light       & brown  &  19.0 & female & feminine  & Alderaan & Human & The Empire Strikes Back, Revenge of the Sith    , Return of the Jedi     , A New Hope             , The Force Awakens       & Imperial Speeder Bike & \\\\\n",
       "\t Owen Lars      & 178 & 120 & brown, grey & light       & blue   &  52.0 & male   & masculine & Tatooine & Human & Attack of the Clones, Revenge of the Sith , A New Hope           &  & \\\\\n",
       "\\end{tabular}\n"
      ],
      "text/markdown": [
       "\n",
       "A tibble: 6 × 14\n",
       "\n",
       "| name &lt;chr&gt; | height &lt;int&gt; | mass &lt;dbl&gt; | hair_color &lt;chr&gt; | skin_color &lt;chr&gt; | eye_color &lt;chr&gt; | birth_year &lt;dbl&gt; | sex &lt;chr&gt; | gender &lt;chr&gt; | homeworld &lt;chr&gt; | species &lt;chr&gt; | films &lt;list&gt; | vehicles &lt;list&gt; | starships &lt;list&gt; |\n",
       "|---|---|---|---|---|---|---|---|---|---|---|---|---|---|\n",
       "| Luke Skywalker | 172 |  77 | blond       | fair        | blue   |  19.0 | male   | masculine | Tatooine | Human | The Empire Strikes Back, Revenge of the Sith    , Return of the Jedi     , A New Hope             , The Force Awakens       | Snowspeeder          , Imperial Speeder Bike | X-wing          , Imperial shuttle |\n",
       "| C-3PO          | 167 |  75 | NA          | gold        | yellow | 112.0 | none   | masculine | Tatooine | Droid | The Empire Strikes Back, Attack of the Clones   , The Phantom Menace     , Revenge of the Sith    , Return of the Jedi     , A New Hope              | <!----> | <!----> |\n",
       "| R2-D2          |  96 |  32 | NA          | white, blue | red    |  33.0 | none   | masculine | Naboo    | Droid | The Empire Strikes Back, Attack of the Clones   , The Phantom Menace     , Revenge of the Sith    , Return of the Jedi     , A New Hope             , The Force Awakens       | <!----> | <!----> |\n",
       "| Darth Vader    | 202 | 136 | none        | white       | yellow |  41.9 | male   | masculine | Tatooine | Human | The Empire Strikes Back, Revenge of the Sith    , Return of the Jedi     , A New Hope              | <!----> | TIE Advanced x1 |\n",
       "| Leia Organa    | 150 |  49 | brown       | light       | brown  |  19.0 | female | feminine  | Alderaan | Human | The Empire Strikes Back, Revenge of the Sith    , Return of the Jedi     , A New Hope             , The Force Awakens       | Imperial Speeder Bike | <!----> |\n",
       "| Owen Lars      | 178 | 120 | brown, grey | light       | blue   |  52.0 | male   | masculine | Tatooine | Human | Attack of the Clones, Revenge of the Sith , A New Hope           | <!----> | <!----> |\n",
       "\n"
      ],
      "text/plain": [
       "  name           height mass hair_color  skin_color  eye_color birth_year\n",
       "1 Luke Skywalker 172     77  blond       fair        blue       19.0     \n",
       "2 C-3PO          167     75  NA          gold        yellow    112.0     \n",
       "3 R2-D2           96     32  NA          white, blue red        33.0     \n",
       "4 Darth Vader    202    136  none        white       yellow     41.9     \n",
       "5 Leia Organa    150     49  brown       light       brown      19.0     \n",
       "6 Owen Lars      178    120  brown, grey light       blue       52.0     \n",
       "  sex    gender    homeworld species\n",
       "1 male   masculine Tatooine  Human  \n",
       "2 none   masculine Tatooine  Droid  \n",
       "3 none   masculine Naboo     Droid  \n",
       "4 male   masculine Tatooine  Human  \n",
       "5 female feminine  Alderaan  Human  \n",
       "6 male   masculine Tatooine  Human  \n",
       "  films                                                                                                                                                                        \n",
       "1 The Empire Strikes Back, Revenge of the Sith    , Return of the Jedi     , A New Hope             , The Force Awakens                                                        \n",
       "2 The Empire Strikes Back, Attack of the Clones   , The Phantom Menace     , Revenge of the Sith    , Return of the Jedi     , A New Hope                                      \n",
       "3 The Empire Strikes Back, Attack of the Clones   , The Phantom Menace     , Revenge of the Sith    , Return of the Jedi     , A New Hope             , The Force Awakens      \n",
       "4 The Empire Strikes Back, Revenge of the Sith    , Return of the Jedi     , A New Hope                                                                                        \n",
       "5 The Empire Strikes Back, Revenge of the Sith    , Return of the Jedi     , A New Hope             , The Force Awakens                                                        \n",
       "6 Attack of the Clones, Revenge of the Sith , A New Hope                                                                                                                       \n",
       "  vehicles                                    \n",
       "1 Snowspeeder          , Imperial Speeder Bike\n",
       "2                                             \n",
       "3                                             \n",
       "4                                             \n",
       "5 Imperial Speeder Bike                       \n",
       "6                                             \n",
       "  starships                         \n",
       "1 X-wing          , Imperial shuttle\n",
       "2                                   \n",
       "3                                   \n",
       "4 TIE Advanced x1                   \n",
       "5                                   \n",
       "6                                   "
      ]
     },
     "metadata": {},
     "output_type": "display_data"
    },
    {
     "data": {
      "text/html": [
       "<table class=\"dataframe\">\n",
       "<caption>A tibble: 6 × 14</caption>\n",
       "<thead>\n",
       "\t<tr><th scope=col>name</th><th scope=col>height</th><th scope=col>mass</th><th scope=col>hair_color</th><th scope=col>skin_color</th><th scope=col>eye_color</th><th scope=col>birth_year</th><th scope=col>sex</th><th scope=col>gender</th><th scope=col>homeworld</th><th scope=col>species</th><th scope=col>films</th><th scope=col>vehicles</th><th scope=col>starships</th></tr>\n",
       "\t<tr><th scope=col>&lt;chr&gt;</th><th scope=col>&lt;int&gt;</th><th scope=col>&lt;dbl&gt;</th><th scope=col>&lt;chr&gt;</th><th scope=col>&lt;chr&gt;</th><th scope=col>&lt;chr&gt;</th><th scope=col>&lt;dbl&gt;</th><th scope=col>&lt;chr&gt;</th><th scope=col>&lt;chr&gt;</th><th scope=col>&lt;chr&gt;</th><th scope=col>&lt;chr&gt;</th><th scope=col>&lt;list&gt;</th><th scope=col>&lt;list&gt;</th><th scope=col>&lt;list&gt;</th></tr>\n",
       "</thead>\n",
       "<tbody>\n",
       "\t<tr><td>Finn          </td><td> NA</td><td>NA</td><td>black  </td><td>dark   </td><td>dark   </td><td>NA</td><td>male  </td><td>masculine</td><td>NA   </td><td>Human</td><td>The Force Awakens</td><td></td><td></td></tr>\n",
       "\t<tr><td>Rey           </td><td> NA</td><td>NA</td><td>brown  </td><td>light  </td><td>hazel  </td><td>NA</td><td>female</td><td>feminine </td><td>NA   </td><td>Human</td><td>The Force Awakens</td><td></td><td></td></tr>\n",
       "\t<tr><td>Poe Dameron   </td><td> NA</td><td>NA</td><td>brown  </td><td>light  </td><td>brown  </td><td>NA</td><td>male  </td><td>masculine</td><td>NA   </td><td>Human</td><td>The Force Awakens</td><td></td><td>T-70 X-wing fighter</td></tr>\n",
       "\t<tr><td>BB8           </td><td> NA</td><td>NA</td><td>none   </td><td>none   </td><td>black  </td><td>NA</td><td>none  </td><td>masculine</td><td>NA   </td><td>Droid</td><td>The Force Awakens</td><td></td><td></td></tr>\n",
       "\t<tr><td>Captain Phasma</td><td> NA</td><td>NA</td><td>unknown</td><td>unknown</td><td>unknown</td><td>NA</td><td>NA    </td><td>NA       </td><td>NA   </td><td>NA   </td><td>The Force Awakens</td><td></td><td></td></tr>\n",
       "\t<tr><td>Padmé Amidala </td><td>165</td><td>45</td><td>brown  </td><td>light  </td><td>brown  </td><td>46</td><td>female</td><td>feminine </td><td>Naboo</td><td>Human</td><td>Attack of the Clones, The Phantom Menace  , Revenge of the Sith </td><td></td><td>H-type Nubian yacht, Naboo star skiff   , Naboo fighter      </td></tr>\n",
       "</tbody>\n",
       "</table>\n"
      ],
      "text/latex": [
       "A tibble: 6 × 14\n",
       "\\begin{tabular}{llllllllllllll}\n",
       " name & height & mass & hair\\_color & skin\\_color & eye\\_color & birth\\_year & sex & gender & homeworld & species & films & vehicles & starships\\\\\n",
       " <chr> & <int> & <dbl> & <chr> & <chr> & <chr> & <dbl> & <chr> & <chr> & <chr> & <chr> & <list> & <list> & <list>\\\\\n",
       "\\hline\n",
       "\t Finn           &  NA & NA & black   & dark    & dark    & NA & male   & masculine & NA    & Human & The Force Awakens &  & \\\\\n",
       "\t Rey            &  NA & NA & brown   & light   & hazel   & NA & female & feminine  & NA    & Human & The Force Awakens &  & \\\\\n",
       "\t Poe Dameron    &  NA & NA & brown   & light   & brown   & NA & male   & masculine & NA    & Human & The Force Awakens &  & T-70 X-wing fighter\\\\\n",
       "\t BB8            &  NA & NA & none    & none    & black   & NA & none   & masculine & NA    & Droid & The Force Awakens &  & \\\\\n",
       "\t Captain Phasma &  NA & NA & unknown & unknown & unknown & NA & NA     & NA        & NA    & NA    & The Force Awakens &  & \\\\\n",
       "\t Padmé Amidala  & 165 & 45 & brown   & light   & brown   & 46 & female & feminine  & Naboo & Human & Attack of the Clones, The Phantom Menace  , Revenge of the Sith  &  & H-type Nubian yacht, Naboo star skiff   , Naboo fighter      \\\\\n",
       "\\end{tabular}\n"
      ],
      "text/markdown": [
       "\n",
       "A tibble: 6 × 14\n",
       "\n",
       "| name &lt;chr&gt; | height &lt;int&gt; | mass &lt;dbl&gt; | hair_color &lt;chr&gt; | skin_color &lt;chr&gt; | eye_color &lt;chr&gt; | birth_year &lt;dbl&gt; | sex &lt;chr&gt; | gender &lt;chr&gt; | homeworld &lt;chr&gt; | species &lt;chr&gt; | films &lt;list&gt; | vehicles &lt;list&gt; | starships &lt;list&gt; |\n",
       "|---|---|---|---|---|---|---|---|---|---|---|---|---|---|\n",
       "| Finn           |  NA | NA | black   | dark    | dark    | NA | male   | masculine | NA    | Human | The Force Awakens | <!----> | <!----> |\n",
       "| Rey            |  NA | NA | brown   | light   | hazel   | NA | female | feminine  | NA    | Human | The Force Awakens | <!----> | <!----> |\n",
       "| Poe Dameron    |  NA | NA | brown   | light   | brown   | NA | male   | masculine | NA    | Human | The Force Awakens | <!----> | T-70 X-wing fighter |\n",
       "| BB8            |  NA | NA | none    | none    | black   | NA | none   | masculine | NA    | Droid | The Force Awakens | <!----> | <!----> |\n",
       "| Captain Phasma |  NA | NA | unknown | unknown | unknown | NA | NA     | NA        | NA    | NA    | The Force Awakens | <!----> | <!----> |\n",
       "| Padmé Amidala  | 165 | 45 | brown   | light   | brown   | 46 | female | feminine  | Naboo | Human | Attack of the Clones, The Phantom Menace  , Revenge of the Sith  | <!----> | H-type Nubian yacht, Naboo star skiff   , Naboo fighter       |\n",
       "\n"
      ],
      "text/plain": [
       "  name           height mass hair_color skin_color eye_color birth_year sex   \n",
       "1 Finn            NA    NA   black      dark       dark      NA         male  \n",
       "2 Rey             NA    NA   brown      light      hazel     NA         female\n",
       "3 Poe Dameron     NA    NA   brown      light      brown     NA         male  \n",
       "4 BB8             NA    NA   none       none       black     NA         none  \n",
       "5 Captain Phasma  NA    NA   unknown    unknown    unknown   NA         NA    \n",
       "6 Padmé Amidala  165    45   brown      light      brown     46         female\n",
       "  gender    homeworld species\n",
       "1 masculine NA        Human  \n",
       "2 feminine  NA        Human  \n",
       "3 masculine NA        Human  \n",
       "4 masculine NA        Droid  \n",
       "5 NA        NA        NA     \n",
       "6 feminine  Naboo     Human  \n",
       "  films                                                            vehicles\n",
       "1 The Force Awakens                                                        \n",
       "2 The Force Awakens                                                        \n",
       "3 The Force Awakens                                                        \n",
       "4 The Force Awakens                                                        \n",
       "5 The Force Awakens                                                        \n",
       "6 Attack of the Clones, The Phantom Menace  , Revenge of the Sith          \n",
       "  starships                                                    \n",
       "1                                                              \n",
       "2                                                              \n",
       "3 T-70 X-wing fighter                                          \n",
       "4                                                              \n",
       "5                                                              \n",
       "6 H-type Nubian yacht, Naboo star skiff   , Naboo fighter      "
      ]
     },
     "metadata": {},
     "output_type": "display_data"
    }
   ],
   "source": [
    "head(dplyr::starwars)\n",
    "tail(dplyr::starwars)\n",
    "#View(dplyr::starwars) # Works in RStudio only"
   ]
  },
  {
   "cell_type": "markdown",
   "id": "6ff24fdb",
   "metadata": {},
   "source": [
    "使用函數取得 `data.frame` 的列命名、欄命名。"
   ]
  },
  {
   "cell_type": "code",
   "execution_count": 8,
   "id": "bca6a568",
   "metadata": {},
   "outputs": [
    {
     "data": {
      "text/html": [
       "<style>\n",
       ".list-inline {list-style: none; margin:0; padding: 0}\n",
       ".list-inline>li {display: inline-block}\n",
       ".list-inline>li:not(:last-child)::after {content: \"\\00b7\"; padding: 0 .5ex}\n",
       "</style>\n",
       "<ol class=list-inline><li>'name'</li><li>'height'</li><li>'mass'</li><li>'hair_color'</li><li>'skin_color'</li><li>'eye_color'</li><li>'birth_year'</li><li>'sex'</li><li>'gender'</li><li>'homeworld'</li><li>'species'</li><li>'films'</li><li>'vehicles'</li><li>'starships'</li></ol>\n"
      ],
      "text/latex": [
       "\\begin{enumerate*}\n",
       "\\item 'name'\n",
       "\\item 'height'\n",
       "\\item 'mass'\n",
       "\\item 'hair\\_color'\n",
       "\\item 'skin\\_color'\n",
       "\\item 'eye\\_color'\n",
       "\\item 'birth\\_year'\n",
       "\\item 'sex'\n",
       "\\item 'gender'\n",
       "\\item 'homeworld'\n",
       "\\item 'species'\n",
       "\\item 'films'\n",
       "\\item 'vehicles'\n",
       "\\item 'starships'\n",
       "\\end{enumerate*}\n"
      ],
      "text/markdown": [
       "1. 'name'\n",
       "2. 'height'\n",
       "3. 'mass'\n",
       "4. 'hair_color'\n",
       "5. 'skin_color'\n",
       "6. 'eye_color'\n",
       "7. 'birth_year'\n",
       "8. 'sex'\n",
       "9. 'gender'\n",
       "10. 'homeworld'\n",
       "11. 'species'\n",
       "12. 'films'\n",
       "13. 'vehicles'\n",
       "14. 'starships'\n",
       "\n",
       "\n"
      ],
      "text/plain": [
       " [1] \"name\"       \"height\"     \"mass\"       \"hair_color\" \"skin_color\"\n",
       " [6] \"eye_color\"  \"birth_year\" \"sex\"        \"gender\"     \"homeworld\" \n",
       "[11] \"species\"    \"films\"      \"vehicles\"   \"starships\" "
      ]
     },
     "metadata": {},
     "output_type": "display_data"
    },
    {
     "data": {
      "text/html": [
       "<style>\n",
       ".list-inline {list-style: none; margin:0; padding: 0}\n",
       ".list-inline>li {display: inline-block}\n",
       ".list-inline>li:not(:last-child)::after {content: \"\\00b7\"; padding: 0 .5ex}\n",
       "</style>\n",
       "<ol class=list-inline><li>1</li><li>2</li><li>3</li><li>4</li><li>5</li><li>6</li><li>7</li><li>8</li><li>9</li><li>10</li><li>11</li><li>12</li><li>13</li><li>14</li><li>15</li><li>16</li><li>17</li><li>18</li><li>19</li><li>20</li><li>21</li><li>22</li><li>23</li><li>24</li><li>25</li><li>26</li><li>27</li><li>28</li><li>29</li><li>30</li><li>31</li><li>32</li><li>33</li><li>34</li><li>35</li><li>36</li><li>37</li><li>38</li><li>39</li><li>40</li><li>41</li><li>42</li><li>43</li><li>44</li><li>45</li><li>46</li><li>47</li><li>48</li><li>49</li><li>50</li><li>51</li><li>52</li><li>53</li><li>54</li><li>55</li><li>56</li><li>57</li><li>58</li><li>59</li><li>60</li><li>61</li><li>62</li><li>63</li><li>64</li><li>65</li><li>66</li><li>67</li><li>68</li><li>69</li><li>70</li><li>71</li><li>72</li><li>73</li><li>74</li><li>75</li><li>76</li><li>77</li><li>78</li><li>79</li><li>80</li><li>81</li><li>82</li><li>83</li><li>84</li><li>85</li><li>86</li><li>87</li></ol>\n"
      ],
      "text/latex": [
       "\\begin{enumerate*}\n",
       "\\item 1\n",
       "\\item 2\n",
       "\\item 3\n",
       "\\item 4\n",
       "\\item 5\n",
       "\\item 6\n",
       "\\item 7\n",
       "\\item 8\n",
       "\\item 9\n",
       "\\item 10\n",
       "\\item 11\n",
       "\\item 12\n",
       "\\item 13\n",
       "\\item 14\n",
       "\\item 15\n",
       "\\item 16\n",
       "\\item 17\n",
       "\\item 18\n",
       "\\item 19\n",
       "\\item 20\n",
       "\\item 21\n",
       "\\item 22\n",
       "\\item 23\n",
       "\\item 24\n",
       "\\item 25\n",
       "\\item 26\n",
       "\\item 27\n",
       "\\item 28\n",
       "\\item 29\n",
       "\\item 30\n",
       "\\item 31\n",
       "\\item 32\n",
       "\\item 33\n",
       "\\item 34\n",
       "\\item 35\n",
       "\\item 36\n",
       "\\item 37\n",
       "\\item 38\n",
       "\\item 39\n",
       "\\item 40\n",
       "\\item 41\n",
       "\\item 42\n",
       "\\item 43\n",
       "\\item 44\n",
       "\\item 45\n",
       "\\item 46\n",
       "\\item 47\n",
       "\\item 48\n",
       "\\item 49\n",
       "\\item 50\n",
       "\\item 51\n",
       "\\item 52\n",
       "\\item 53\n",
       "\\item 54\n",
       "\\item 55\n",
       "\\item 56\n",
       "\\item 57\n",
       "\\item 58\n",
       "\\item 59\n",
       "\\item 60\n",
       "\\item 61\n",
       "\\item 62\n",
       "\\item 63\n",
       "\\item 64\n",
       "\\item 65\n",
       "\\item 66\n",
       "\\item 67\n",
       "\\item 68\n",
       "\\item 69\n",
       "\\item 70\n",
       "\\item 71\n",
       "\\item 72\n",
       "\\item 73\n",
       "\\item 74\n",
       "\\item 75\n",
       "\\item 76\n",
       "\\item 77\n",
       "\\item 78\n",
       "\\item 79\n",
       "\\item 80\n",
       "\\item 81\n",
       "\\item 82\n",
       "\\item 83\n",
       "\\item 84\n",
       "\\item 85\n",
       "\\item 86\n",
       "\\item 87\n",
       "\\end{enumerate*}\n"
      ],
      "text/markdown": [
       "1. 1\n",
       "2. 2\n",
       "3. 3\n",
       "4. 4\n",
       "5. 5\n",
       "6. 6\n",
       "7. 7\n",
       "8. 8\n",
       "9. 9\n",
       "10. 10\n",
       "11. 11\n",
       "12. 12\n",
       "13. 13\n",
       "14. 14\n",
       "15. 15\n",
       "16. 16\n",
       "17. 17\n",
       "18. 18\n",
       "19. 19\n",
       "20. 20\n",
       "21. 21\n",
       "22. 22\n",
       "23. 23\n",
       "24. 24\n",
       "25. 25\n",
       "26. 26\n",
       "27. 27\n",
       "28. 28\n",
       "29. 29\n",
       "30. 30\n",
       "31. 31\n",
       "32. 32\n",
       "33. 33\n",
       "34. 34\n",
       "35. 35\n",
       "36. 36\n",
       "37. 37\n",
       "38. 38\n",
       "39. 39\n",
       "40. 40\n",
       "41. 41\n",
       "42. 42\n",
       "43. 43\n",
       "44. 44\n",
       "45. 45\n",
       "46. 46\n",
       "47. 47\n",
       "48. 48\n",
       "49. 49\n",
       "50. 50\n",
       "51. 51\n",
       "52. 52\n",
       "53. 53\n",
       "54. 54\n",
       "55. 55\n",
       "56. 56\n",
       "57. 57\n",
       "58. 58\n",
       "59. 59\n",
       "60. 60\n",
       "61. 61\n",
       "62. 62\n",
       "63. 63\n",
       "64. 64\n",
       "65. 65\n",
       "66. 66\n",
       "67. 67\n",
       "68. 68\n",
       "69. 69\n",
       "70. 70\n",
       "71. 71\n",
       "72. 72\n",
       "73. 73\n",
       "74. 74\n",
       "75. 75\n",
       "76. 76\n",
       "77. 77\n",
       "78. 78\n",
       "79. 79\n",
       "80. 80\n",
       "81. 81\n",
       "82. 82\n",
       "83. 83\n",
       "84. 84\n",
       "85. 85\n",
       "86. 86\n",
       "87. 87\n",
       "\n",
       "\n"
      ],
      "text/plain": [
       " [1]  1  2  3  4  5  6  7  8  9 10 11 12 13 14 15 16 17 18 19 20 21 22 23 24 25\n",
       "[26] 26 27 28 29 30 31 32 33 34 35 36 37 38 39 40 41 42 43 44 45 46 47 48 49 50\n",
       "[51] 51 52 53 54 55 56 57 58 59 60 61 62 63 64 65 66 67 68 69 70 71 72 73 74 75\n",
       "[76] 76 77 78 79 80 81 82 83 84 85 86 87"
      ]
     },
     "metadata": {},
     "output_type": "display_data"
    }
   ],
   "source": [
    "colnames(dplyr::starwars)\n",
    "dplyr::starwars |>\n",
    "  rownames() |>\n",
    "  as.numeric()"
   ]
  },
  {
   "cell_type": "markdown",
   "id": "9d3930e6",
   "metadata": {},
   "source": [
    "`tibble` 是「簡約版」的 `data.frame`，提供了更簡潔明瞭的顯示外觀，並且是 tidyverse 套件組的通用資料結構，例如使用 tidyverse 套件組之中 `readr` 套件的 `read_csv()` 函數載入 CSV 檔案、使用 tidyverse 套件組之中 `dplyr`、`tidyr` 套件的函數處理資料，都會得到 `tibble` 的輸出。使用函數檢視 `tibble` 的類別，`tibble` 屬於 `data.frame` 與 `list` 的子類別。"
   ]
  },
  {
   "cell_type": "code",
   "execution_count": 9,
   "id": "6ce3b134",
   "metadata": {},
   "outputs": [
    {
     "data": {
      "text/html": [
       "<style>\n",
       ".list-inline {list-style: none; margin:0; padding: 0}\n",
       ".list-inline>li {display: inline-block}\n",
       ".list-inline>li:not(:last-child)::after {content: \"\\00b7\"; padding: 0 .5ex}\n",
       "</style>\n",
       "<ol class=list-inline><li>'tbl_df'</li><li>'tbl'</li><li>'data.frame'</li></ol>\n"
      ],
      "text/latex": [
       "\\begin{enumerate*}\n",
       "\\item 'tbl\\_df'\n",
       "\\item 'tbl'\n",
       "\\item 'data.frame'\n",
       "\\end{enumerate*}\n"
      ],
      "text/markdown": [
       "1. 'tbl_df'\n",
       "2. 'tbl'\n",
       "3. 'data.frame'\n",
       "\n",
       "\n"
      ],
      "text/plain": [
       "[1] \"tbl_df\"     \"tbl\"        \"data.frame\""
      ]
     },
     "metadata": {},
     "output_type": "display_data"
    },
    {
     "data": {
      "text/html": [
       "TRUE"
      ],
      "text/latex": [
       "TRUE"
      ],
      "text/markdown": [
       "TRUE"
      ],
      "text/plain": [
       "[1] TRUE"
      ]
     },
     "metadata": {},
     "output_type": "display_data"
    },
    {
     "data": {
      "text/html": [
       "TRUE"
      ],
      "text/latex": [
       "TRUE"
      ],
      "text/markdown": [
       "TRUE"
      ],
      "text/plain": [
       "[1] TRUE"
      ]
     },
     "metadata": {},
     "output_type": "display_data"
    },
    {
     "data": {
      "text/html": [
       "TRUE"
      ],
      "text/latex": [
       "TRUE"
      ],
      "text/markdown": [
       "TRUE"
      ],
      "text/plain": [
       "[1] TRUE"
      ]
     },
     "metadata": {},
     "output_type": "display_data"
    }
   ],
   "source": [
    "class(dplyr::starwars)\n",
    "tibble::is_tibble(dplyr::starwars)\n",
    "is.data.frame(dplyr::starwars)\n",
    "is.list(dplyr::starwars)"
   ]
  },
  {
   "cell_type": "markdown",
   "id": "60160e8c",
   "metadata": {},
   "source": [
    "至於處理 `tibble` 跟處理 `data.frame` 完全沒有分別，可以百分百移植所有處理資料框的技巧到 `tibble` 之上。\n",
    "\n",
    "`data.table` 是「大數據版」的 `data.frame`，提供了更快速的聚合運算、集合運算以及分組運算，例如使用 `data.table` 套件的 `fread()` 函數載入 CSV 檔案就會得到 `data.table` 的輸出。使用函數檢視 `data.table` 的類別，`data.table` 屬於 `data.frame` 與 `list` 的子類別。"
   ]
  },
  {
   "cell_type": "code",
   "execution_count": 10,
   "id": "f05864a5",
   "metadata": {},
   "outputs": [
    {
     "data": {
      "text/html": [
       "<style>\n",
       ".list-inline {list-style: none; margin:0; padding: 0}\n",
       ".list-inline>li {display: inline-block}\n",
       ".list-inline>li:not(:last-child)::after {content: \"\\00b7\"; padding: 0 .5ex}\n",
       "</style>\n",
       "<ol class=list-inline><li>'data.table'</li><li>'data.frame'</li></ol>\n"
      ],
      "text/latex": [
       "\\begin{enumerate*}\n",
       "\\item 'data.table'\n",
       "\\item 'data.frame'\n",
       "\\end{enumerate*}\n"
      ],
      "text/markdown": [
       "1. 'data.table'\n",
       "2. 'data.frame'\n",
       "\n",
       "\n"
      ],
      "text/plain": [
       "[1] \"data.table\" \"data.frame\""
      ]
     },
     "metadata": {},
     "output_type": "display_data"
    },
    {
     "data": {
      "text/html": [
       "TRUE"
      ],
      "text/latex": [
       "TRUE"
      ],
      "text/markdown": [
       "TRUE"
      ],
      "text/plain": [
       "[1] TRUE"
      ]
     },
     "metadata": {},
     "output_type": "display_data"
    },
    {
     "data": {
      "text/html": [
       "TRUE"
      ],
      "text/latex": [
       "TRUE"
      ],
      "text/markdown": [
       "TRUE"
      ],
      "text/plain": [
       "[1] TRUE"
      ]
     },
     "metadata": {},
     "output_type": "display_data"
    },
    {
     "data": {
      "text/html": [
       "TRUE"
      ],
      "text/latex": [
       "TRUE"
      ],
      "text/markdown": [
       "TRUE"
      ],
      "text/plain": [
       "[1] TRUE"
      ]
     },
     "metadata": {},
     "output_type": "display_data"
    }
   ],
   "source": [
    "starwars_dt <- data.table::as.data.table(dplyr::starwars)\n",
    "class(starwars_dt)\n",
    "data.table::is.data.table(starwars_dt)\n",
    "is.data.frame(starwars_dt)\n",
    "is.list(starwars_dt)"
   ]
  },
  {
   "cell_type": "markdown",
   "id": "63bb8316",
   "metadata": {},
   "source": [
    "基本檢視、預覽 `data.table` 的函數與 `data.frame` 完全沒有分別，不過處理 `data.table` 的語法以及技巧卻是其自成一格的 `DT[i, j, by]`，無法完全移植過往處理資料框的技巧。\n",
    "\n",
    "`xts` 是 eXtensible Time Series 的縮寫，專門用來儲存與處理時間序列的表格式資料，例如使用 quantmod 套件的 `getSymbols()` 函數載入個股資訊就會得到 `xts` 的輸出。使用函數檢視 `xts` 的類別，`xts` 屬於 `matrix` 的子類別。"
   ]
  },
  {
   "cell_type": "code",
   "execution_count": 11,
   "id": "4848b086",
   "metadata": {},
   "outputs": [
    {
     "data": {
      "text/html": [
       "<style>\n",
       ".list-inline {list-style: none; margin:0; padding: 0}\n",
       ".list-inline>li {display: inline-block}\n",
       ".list-inline>li:not(:last-child)::after {content: \"\\00b7\"; padding: 0 .5ex}\n",
       "</style>\n",
       "<ol class=list-inline><li>'xts'</li><li>'zoo'</li></ol>\n"
      ],
      "text/latex": [
       "\\begin{enumerate*}\n",
       "\\item 'xts'\n",
       "\\item 'zoo'\n",
       "\\end{enumerate*}\n"
      ],
      "text/markdown": [
       "1. 'xts'\n",
       "2. 'zoo'\n",
       "\n",
       "\n"
      ],
      "text/plain": [
       "[1] \"xts\" \"zoo\""
      ]
     },
     "metadata": {},
     "output_type": "display_data"
    },
    {
     "data": {
      "text/html": [
       "TRUE"
      ],
      "text/latex": [
       "TRUE"
      ],
      "text/markdown": [
       "TRUE"
      ],
      "text/plain": [
       "[1] TRUE"
      ]
     },
     "metadata": {},
     "output_type": "display_data"
    },
    {
     "data": {
      "text/html": [
       "TRUE"
      ],
      "text/latex": [
       "TRUE"
      ],
      "text/markdown": [
       "TRUE"
      ],
      "text/plain": [
       "[1] TRUE"
      ]
     },
     "metadata": {},
     "output_type": "display_data"
    }
   ],
   "source": [
    "start_date <- \"2022-01-01\"\n",
    "AAPL <- getSymbols(Symbols = \"AAPL\", from = start_date, auto.assign = FALSE)\n",
    "class(AAPL)\n",
    "xts::is.xts(AAPL)\n",
    "is.matrix(AAPL)"
   ]
  },
  {
   "cell_type": "markdown",
   "id": "e2085f22",
   "metadata": {},
   "source": [
    "解構 `xts` 可以發現它是由一個日期向量（`Date`）與一個 `matrix` 組合而成。"
   ]
  },
  {
   "cell_type": "markdown",
   "id": "06b4caf4",
   "metadata": {},
   "source": [
    "aapl_index <- zoo::index(AAPL)\n",
    "aapl_coredata <- zoo::coredata(AAPL)\n",
    "class(aapl_index)\n",
    "class(aapl_coredata)"
   ]
  },
  {
   "cell_type": "markdown",
   "id": "f17c9bf2",
   "metadata": {},
   "source": [
    "## 有效率處理表格式資料的訣竅\n",
    "\n",
    "訣竅一：掌握不同資料結構之間的轉換，像是從表格式資料擷取向量，透過下列函數轉換為特定表格式資料結構。\n",
    "\n",
    "1. `as.matrix()`\n",
    "2. `as.data.frame()`\n",
    "3. `tibble::as.tibble()`\n",
    "4. `data.table::as.data.table()`\n",
    "5. `xts::as.xts()`\n",
    "\n",
    "訣竅二：同質資料的處理效率高於異質資料，盡可能將所需資料提取為向量或 `matrix` 再處理，而非以資料框格式處理，例如同樣想要使用 `height` 與 `mass` 這兩個欄位，提取為向量或 `matrix` 的作法比較有效率。"
   ]
  },
  {
   "cell_type": "code",
   "execution_count": 12,
   "id": "fdc973da",
   "metadata": {},
   "outputs": [
    {
     "data": {
      "text/html": [
       "'integer'"
      ],
      "text/latex": [
       "'integer'"
      ],
      "text/markdown": [
       "'integer'"
      ],
      "text/plain": [
       "[1] \"integer\""
      ]
     },
     "metadata": {},
     "output_type": "display_data"
    },
    {
     "data": {
      "text/html": [
       "<style>\n",
       ".list-inline {list-style: none; margin:0; padding: 0}\n",
       ".list-inline>li {display: inline-block}\n",
       ".list-inline>li:not(:last-child)::after {content: \"\\00b7\"; padding: 0 .5ex}\n",
       "</style>\n",
       "<ol class=list-inline><li>'matrix'</li><li>'array'</li></ol>\n"
      ],
      "text/latex": [
       "\\begin{enumerate*}\n",
       "\\item 'matrix'\n",
       "\\item 'array'\n",
       "\\end{enumerate*}\n"
      ],
      "text/markdown": [
       "1. 'matrix'\n",
       "2. 'array'\n",
       "\n",
       "\n"
      ],
      "text/plain": [
       "[1] \"matrix\" \"array\" "
      ]
     },
     "metadata": {},
     "output_type": "display_data"
    },
    {
     "data": {
      "text/html": [
       "<style>\n",
       ".list-inline {list-style: none; margin:0; padding: 0}\n",
       ".list-inline>li {display: inline-block}\n",
       ".list-inline>li:not(:last-child)::after {content: \"\\00b7\"; padding: 0 .5ex}\n",
       "</style>\n",
       "<ol class=list-inline><li>'tbl_df'</li><li>'tbl'</li><li>'data.frame'</li></ol>\n"
      ],
      "text/latex": [
       "\\begin{enumerate*}\n",
       "\\item 'tbl\\_df'\n",
       "\\item 'tbl'\n",
       "\\item 'data.frame'\n",
       "\\end{enumerate*}\n"
      ],
      "text/markdown": [
       "1. 'tbl_df'\n",
       "2. 'tbl'\n",
       "3. 'data.frame'\n",
       "\n",
       "\n"
      ],
      "text/plain": [
       "[1] \"tbl_df\"     \"tbl\"        \"data.frame\""
      ]
     },
     "metadata": {},
     "output_type": "display_data"
    },
    {
     "data": {
      "text/html": [
       "<style>\n",
       ".list-inline {list-style: none; margin:0; padding: 0}\n",
       ".list-inline>li {display: inline-block}\n",
       ".list-inline>li:not(:last-child)::after {content: \"\\00b7\"; padding: 0 .5ex}\n",
       "</style>\n",
       "<ol class=list-inline><li>'tbl_df'</li><li>'tbl'</li><li>'data.frame'</li></ol>\n"
      ],
      "text/latex": [
       "\\begin{enumerate*}\n",
       "\\item 'tbl\\_df'\n",
       "\\item 'tbl'\n",
       "\\item 'data.frame'\n",
       "\\end{enumerate*}\n"
      ],
      "text/markdown": [
       "1. 'tbl_df'\n",
       "2. 'tbl'\n",
       "3. 'data.frame'\n",
       "\n",
       "\n"
      ],
      "text/plain": [
       "[1] \"tbl_df\"     \"tbl\"        \"data.frame\""
      ]
     },
     "metadata": {},
     "output_type": "display_data"
    }
   ],
   "source": [
    "# Good\n",
    "class(dplyr::starwars[[\"height\"]])\n",
    "dplyr::starwars[, c(\"height\", \"mass\")] |>\n",
    "  as.matrix() |>\n",
    "  class()\n",
    "# Not so good\n",
    "class(dplyr::starwars[, \"height\"])\n",
    "class(dplyr::starwars[, c(\"height\", \"mass\")])"
   ]
  },
  {
   "cell_type": "markdown",
   "id": "e17001bd",
   "metadata": {},
   "source": [
    "訣竅三：向量化的處理效率高於函數型程式設計，例如同樣想要使用 `height` 與 `mass` 這兩個欄位運算 `bmi`，使用向量運算的作法比較有效率（且易懂。）"
   ]
  },
  {
   "cell_type": "code",
   "execution_count": 13,
   "id": "2c23d800",
   "metadata": {},
   "outputs": [],
   "source": [
    "# Good\n",
    "bmi <- dplyr::starwars[[\"mass\"]] / (dplyr::starwars[[\"height\"]]*0.01)^2\n",
    "# Not so good\n",
    "bmi <- mapply(function(w, h) {w / (h*0.01)^2}, dplyr::starwars[[\"mass\"]], dplyr::starwars[[\"height\"]])"
   ]
  },
  {
   "cell_type": "markdown",
   "id": "91ca1b4a",
   "metadata": {},
   "source": [
    "訣竅四：函數型程式設計的處理效率高於迴圈，例如同樣想要使用 `height` 與 `mass` 這兩個欄位運算 `bmi`，使用函數型程式設計的作法比較有效率。"
   ]
  },
  {
   "cell_type": "code",
   "execution_count": 14,
   "id": "5c3bd41e",
   "metadata": {},
   "outputs": [],
   "source": [
    "# Good\n",
    "bmi <- mapply(function(w, h) {w / (h*0.01)^2}, dplyr::starwars[[\"mass\"]], dplyr::starwars[[\"height\"]])\n",
    "# Not so good\n",
    "bmi <- vector(\"numeric\", length = nrow(dplyr::starwars))\n",
    "for (rowi in 1:nrow(dplyr::starwars)) {\n",
    "  w <- dplyr::starwars[rowi, \"mass\"][[\"mass\"]]\n",
    "  h <- dplyr::starwars[rowi, \"height\"][[\"height\"]]\n",
    "  bmi[rowi] <- w/(h*0.01)^2\n",
    "}"
   ]
  },
  {
   "cell_type": "markdown",
   "id": "a9c163df",
   "metadata": {},
   "source": [
    "訣竅五：使用迴圈處理時先行定義好輸出的長度與類別效率高於未定義輸出，例如同樣想要使用迴圈輸入 `height` 與 `mass` 這兩個欄位運算 `bmi`，先行定義好輸出的長度與類別的作法比較有效率。"
   ]
  },
  {
   "cell_type": "code",
   "execution_count": 15,
   "id": "e51b2766",
   "metadata": {},
   "outputs": [],
   "source": [
    "# Good\n",
    "bmi <- vector(\"numeric\", length = nrow(dplyr::starwars))\n",
    "for (rowi in 1:nrow(dplyr::starwars)) {\n",
    "  w <- dplyr::starwars[rowi, \"mass\"][[\"mass\"]]\n",
    "  h <- dplyr::starwars[rowi, \"height\"][[\"height\"]]\n",
    "  bmi[rowi] <- w/(h*0.01)^2\n",
    "}\n",
    "# Not so good\n",
    "bmi <- vector()\n",
    "for (rowi in 1:nrow(dplyr::starwars)) {\n",
    "  w <- dplyr::starwars[rowi, \"mass\"][[\"mass\"]]\n",
    "  h <- dplyr::starwars[rowi, \"height\"][[\"height\"]]\n",
    "  bmi <- c(bmi, w/(h*0.01)^2)\n",
    "}"
   ]
  },
  {
   "cell_type": "markdown",
   "id": "3d0495e9",
   "metadata": {},
   "source": [
    "訣竅六：處理異質資料時 `data.table` 快於 `data.frame`，例如載入龐大的來源資料應優先考慮 `data.table::fread()` 函數。"
   ]
  },
  {
   "cell_type": "code",
   "execution_count": 16,
   "id": "a711e8fc",
   "metadata": {},
   "outputs": [],
   "source": [
    "file_url <- \"https://raw.githubusercontent.com/Rdatatable/data.table/master/vignettes/flights14.csv\"\n",
    "# Good\n",
    "flights_dt <- data.table::fread(file_url)\n",
    "# Not so good\n",
    "flights_df <- utils::read.csv(file_url)"
   ]
  },
  {
   "cell_type": "markdown",
   "id": "3ebd9907",
   "metadata": {},
   "source": [
    "非常感謝台北大學企業管理學系的游擱嘉助理教授邀約，讓我有機會能夠以另一個角度整理 R 語言的相關知識，也希望來聽短講的同學、我的電子報讀者有所收穫。\n",
    "\n",
    "對於這篇文章有什麼想法呢？喜歡😻、留言🙋‍♂️或者分享🙌"
   ]
  }
 ],
 "metadata": {
  "kernelspec": {
   "display_name": "R",
   "language": "R",
   "name": "ir"
  },
  "language_info": {
   "codemirror_mode": "r",
   "file_extension": ".r",
   "mimetype": "text/x-r-source",
   "name": "R",
   "pygments_lexer": "r",
   "version": "4.2.1"
  }
 },
 "nbformat": 4,
 "nbformat_minor": 5
}
